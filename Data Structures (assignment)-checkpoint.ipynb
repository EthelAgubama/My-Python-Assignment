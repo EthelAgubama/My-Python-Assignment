{
 "cells": [
  {
   "cell_type": "markdown",
   "id": "3c2e90df",
   "metadata": {},
   "source": [
    "### Q1\n",
    "\n",
    "Name the four built-in data structures in python. Give one examples for each"
   ]
  },
  {
   "cell_type": "markdown",
   "id": "fd035c70",
   "metadata": {},
   "source": [
    "#1.\n",
    "lists."
   ]
  },
  {
   "cell_type": "code",
   "execution_count": null,
   "id": "e267a5dd",
   "metadata": {},
   "outputs": [],
   "source": [
    "#2\n",
    "sets"
   ]
  },
  {
   "cell_type": "code",
   "execution_count": null,
   "id": "820d7d55",
   "metadata": {},
   "outputs": [],
   "source": [
    "#3.\n",
    "tuples"
   ]
  },
  {
   "cell_type": "code",
   "execution_count": null,
   "id": "ab04a722",
   "metadata": {},
   "outputs": [],
   "source": [
    "#4\n",
    "dictionaries"
   ]
  },
  {
   "cell_type": "markdown",
   "id": "b6e1dd1b",
   "metadata": {},
   "source": [
    "### Q2\n",
    "\n",
    "State two differences between a list and a tuple in Python."
   ]
  },
  {
   "cell_type": "code",
   "execution_count": null,
   "id": "2431a901",
   "metadata": {},
   "outputs": [],
   "source": [
    "#1 list are created using [],whilst tupple are created using ()\n",
    "#2Lists can be changed.Tuples are ordered and unchangeble."
   ]
  },
  {
   "cell_type": "markdown",
   "id": "815b4e67",
   "metadata": {},
   "source": [
    "### Q3\n",
    "Make a list containing names of five animals with a variable name `animal_list`\n",
    "\n",
    "Write a code for the following:\n",
    "- Print the first two animals\n",
    "- Print the last two animals\n",
    "- Add three extra animals to the variable `animal_list`\n",
    "- Remove the first two animals from the variable `animal_list`\n",
    "- How many animals are in the `animal_list`?\n",
    "- Create a variable animal_set which stores the set of animal_list \n",
    "- How many elements are in the animal_set?\n"
   ]
  },
  {
   "cell_type": "code",
   "execution_count": 3,
   "id": "c62a2078",
   "metadata": {},
   "outputs": [],
   "source": [
    "animal_list=[\"dog\",\"cow\",\"sheep\",\"goat\",\"hen\"]"
   ]
  },
  {
   "cell_type": "code",
   "execution_count": 8,
   "id": "42959d79",
   "metadata": {},
   "outputs": [
    {
     "name": "stdout",
     "output_type": "stream",
     "text": [
      "['dog', 'cow']\n"
     ]
    }
   ],
   "source": [
    "print(animal_list[:-3])"
   ]
  },
  {
   "cell_type": "code",
   "execution_count": 10,
   "id": "528ff62a",
   "metadata": {},
   "outputs": [
    {
     "name": "stdout",
     "output_type": "stream",
     "text": [
      "['goat', 'hen']\n"
     ]
    }
   ],
   "source": [
    "print(animal_list[3:])"
   ]
  },
  {
   "cell_type": "code",
   "execution_count": 15,
   "id": "a424dd97",
   "metadata": {},
   "outputs": [],
   "source": [
    "new_animal_list= [\"camel\",\"horse\",\"pig\"]"
   ]
  },
  {
   "cell_type": "code",
   "execution_count": 17,
   "id": "f8a51c9f",
   "metadata": {},
   "outputs": [],
   "source": [
    "animal_list.extend([\"camel\",\"horse\",\"pig\"])"
   ]
  },
  {
   "cell_type": "code",
   "execution_count": 19,
   "id": "a57bbd3a",
   "metadata": {},
   "outputs": [
    {
     "name": "stdout",
     "output_type": "stream",
     "text": [
      "['dog', 'cow', 'sheep', 'goat', 'hen', 'camel', 'horse', 'pig']\n"
     ]
    }
   ],
   "source": [
    "print(animal_list)\n"
   ]
  },
  {
   "cell_type": "code",
   "execution_count": 22,
   "id": "e345ea4e",
   "metadata": {},
   "outputs": [],
   "source": [
    "del animal_list[:1]"
   ]
  },
  {
   "cell_type": "code",
   "execution_count": 23,
   "id": "f511f40e",
   "metadata": {},
   "outputs": [
    {
     "name": "stdout",
     "output_type": "stream",
     "text": [
      "['sheep', 'goat', 'hen', 'camel', 'horse', 'pig']\n"
     ]
    }
   ],
   "source": [
    "print(animal_list)"
   ]
  },
  {
   "cell_type": "code",
   "execution_count": 24,
   "id": "d3996220",
   "metadata": {},
   "outputs": [
    {
     "data": {
      "text/plain": [
       "6"
      ]
     },
     "execution_count": 24,
     "metadata": {},
     "output_type": "execute_result"
    }
   ],
   "source": [
    "len(animal_list)"
   ]
  },
  {
   "cell_type": "code",
   "execution_count": 26,
   "id": "bc32c503",
   "metadata": {},
   "outputs": [],
   "source": [
    "animal_set=set(animal_list)"
   ]
  },
  {
   "cell_type": "code",
   "execution_count": 27,
   "id": "2895de71",
   "metadata": {},
   "outputs": [
    {
     "data": {
      "text/plain": [
       "6"
      ]
     },
     "execution_count": 27,
     "metadata": {},
     "output_type": "execute_result"
    }
   ],
   "source": [
    "len(animal_set)"
   ]
  },
  {
   "cell_type": "markdown",
   "id": "113c9970",
   "metadata": {},
   "source": [
    "### Q4\n",
    "\n",
    "Given a list:\n",
    "\n",
    "suitcase = [\"sunglasses\", \"hat\", \"passport\", \"laptop\", \"suit\", \"shoes\"]\n",
    "\n",
    "a. Create a list called first containing only the two first items from suitcase.\n",
    "\n",
    "b. Create a list called middle containing only the two middle items from suitcase.\n",
    "\n",
    "c. Create a list called last made up only of the last two items from suitcase."
   ]
  },
  {
   "cell_type": "code",
   "execution_count": 29,
   "id": "1518752c",
   "metadata": {},
   "outputs": [],
   "source": [
    "suitcase=[\"sunglasses\",\"hat\",\"passport\",\"laptop\",\"suit\",\"shoes\"]"
   ]
  },
  {
   "cell_type": "code",
   "execution_count": 31,
   "id": "02e0f998",
   "metadata": {},
   "outputs": [],
   "source": [
    "first=(suitcase[0:2])"
   ]
  },
  {
   "cell_type": "code",
   "execution_count": 32,
   "id": "053b4af0",
   "metadata": {},
   "outputs": [
    {
     "name": "stdout",
     "output_type": "stream",
     "text": [
      "['sunglasses', 'hat']\n"
     ]
    }
   ],
   "source": [
    "print(first)"
   ]
  },
  {
   "cell_type": "code",
   "execution_count": 35,
   "id": "18176663",
   "metadata": {},
   "outputs": [],
   "source": [
    "middle=(suitcase[2:4])"
   ]
  },
  {
   "cell_type": "code",
   "execution_count": 36,
   "id": "c945122c",
   "metadata": {},
   "outputs": [
    {
     "name": "stdout",
     "output_type": "stream",
     "text": [
      "['passport', 'laptop']\n"
     ]
    }
   ],
   "source": [
    "print(middle)"
   ]
  },
  {
   "cell_type": "code",
   "execution_count": 39,
   "id": "cdb1a659",
   "metadata": {},
   "outputs": [],
   "source": [
    "last=(suitcase[4:])"
   ]
  },
  {
   "cell_type": "code",
   "execution_count": 40,
   "id": "e6de0a36",
   "metadata": {},
   "outputs": [
    {
     "name": "stdout",
     "output_type": "stream",
     "text": [
      "['suit', 'shoes']\n"
     ]
    }
   ],
   "source": [
    "print(last)"
   ]
  },
  {
   "cell_type": "markdown",
   "id": "711ba044",
   "metadata": {},
   "source": [
    "### Q5\n",
    "Write a python code to insert 35 into the list below. Make sure it is inserted in the right position to maintain the order of the data.\n",
    "\n",
    "`values = [20,25,30,40,45,50,55,60,65,70]`"
   ]
  },
  {
   "cell_type": "code",
   "execution_count": 43,
   "id": "03d64933",
   "metadata": {},
   "outputs": [],
   "source": [
    "values=[20,25,30,40,45,50,55,60,65,70]"
   ]
  },
  {
   "cell_type": "code",
   "execution_count": 44,
   "id": "f1f6e161",
   "metadata": {},
   "outputs": [],
   "source": [
    "new_value=[35]"
   ]
  },
  {
   "cell_type": "code",
   "execution_count": 46,
   "id": "227687b6",
   "metadata": {},
   "outputs": [],
   "source": [
    "values.extend([35])"
   ]
  },
  {
   "cell_type": "code",
   "execution_count": 47,
   "id": "5a83c9a9",
   "metadata": {},
   "outputs": [
    {
     "name": "stdout",
     "output_type": "stream",
     "text": [
      "[20, 25, 30, 40, 45, 50, 55, 60, 65, 70, 35]\n"
     ]
    }
   ],
   "source": [
    "print(values)"
   ]
  },
  {
   "cell_type": "code",
   "execution_count": 51,
   "id": "82af696d",
   "metadata": {},
   "outputs": [],
   "source": [
    "values.insert(3,35)"
   ]
  },
  {
   "cell_type": "code",
   "execution_count": 52,
   "id": "8e968e01",
   "metadata": {},
   "outputs": [
    {
     "name": "stdout",
     "output_type": "stream",
     "text": [
      "[20, 25, 30, 35, 40, 45, 50, 55, 60, 65, 70, 35]\n"
     ]
    }
   ],
   "source": [
    "print(values)"
   ]
  },
  {
   "cell_type": "markdown",
   "id": "f535cf64",
   "metadata": {},
   "source": [
    "### Q6\n",
    "\n",
    "Given that Python lists and Python tuples are quite similar – when might you prefer to use a tuple over a list?"
   ]
  },
  {
   "cell_type": "markdown",
   "id": "77e471fe",
   "metadata": {},
   "source": [
    "when the data is imuttable"
   ]
  },
  {
   "cell_type": "markdown",
   "id": "346927f6",
   "metadata": {},
   "source": [
    "### Q7\n",
    "Create a dictionary with 5 Ghana regions and their capitals and store it in the variable `region_capital`\n",
    "\n",
    "- Print out the keys of region_capital\n",
    "- Print out the values of region_capital\n"
   ]
  },
  {
   "cell_type": "code",
   "execution_count": 57,
   "id": "63065e37",
   "metadata": {},
   "outputs": [],
   "source": [
    "Ghana_regions={\"upper east\":\"bolgatanga\"\n",
    "               ,\"upper west\":\"wa\",\n",
    "               \"north east\":\"nalerigu\"\n",
    "               ,\"northern\":\"tamale\"\n",
    "               ,\"bono\":\"suyani\"}"
   ]
  },
  {
   "cell_type": "code",
   "execution_count": 62,
   "id": "caf1a503",
   "metadata": {},
   "outputs": [
    {
     "name": "stdout",
     "output_type": "stream",
     "text": [
      "dict_keys(['upper east', 'upper west', 'north east', 'northern', 'bono'])\n"
     ]
    }
   ],
   "source": [
    "print(Ghana_regions.keys())"
   ]
  },
  {
   "cell_type": "code",
   "execution_count": 63,
   "id": "a0228270",
   "metadata": {},
   "outputs": [
    {
     "name": "stdout",
     "output_type": "stream",
     "text": [
      "dict_values(['bolgatanga', 'wa', 'nalerigu', 'tamale', 'suyani'])\n"
     ]
    }
   ],
   "source": [
    "print(Ghana_regions.values())"
   ]
  },
  {
   "cell_type": "markdown",
   "id": "70526b3b",
   "metadata": {},
   "source": [
    "### Q8\n",
    "\n",
    "`values = [3,3,4,5,6,3,4,3,5,2,4,2,5,6,1,6]`\n",
    "\n",
    "Using the codes above answer the following questions:\n",
    "- What is the total number of elements in values?\n",
    "- What is the highest occuring number in the values variable?\n",
    "- Convert values into a set and store it into a variable named `values_set`\n",
    "- How many elements are in the variable values_set?\n"
   ]
  },
  {
   "cell_type": "code",
   "execution_count": 64,
   "id": "9a6b2fd6",
   "metadata": {},
   "outputs": [],
   "source": [
    "values = [3,3,4,5,6,3,4,3,5,2,4,2,5,6,1,6]"
   ]
  },
  {
   "cell_type": "code",
   "execution_count": 65,
   "id": "87773b04",
   "metadata": {},
   "outputs": [],
   "source": [
    "total_num=sum(values)"
   ]
  },
  {
   "cell_type": "code",
   "execution_count": 66,
   "id": "48ee1273",
   "metadata": {},
   "outputs": [
    {
     "name": "stdout",
     "output_type": "stream",
     "text": [
      "62\n"
     ]
    }
   ],
   "source": [
    "print(total_num)"
   ]
  },
  {
   "cell_type": "code",
   "execution_count": 68,
   "id": "15e915b1",
   "metadata": {},
   "outputs": [
    {
     "name": "stdout",
     "output_type": "stream",
     "text": [
      "3\n"
     ]
    }
   ],
   "source": [
    "values = [3,3,4,5,6,3,4,3,5,2,4,2,5,6,1,6]\n",
    "\n",
    "highest_occurrence = max(values, key=values.count)\n",
    "\n",
    "print(highest_occurrence)\n",
    "\n",
    "            \n",
    "    "
   ]
  },
  {
   "cell_type": "code",
   "execution_count": 69,
   "id": "11c0cc75",
   "metadata": {},
   "outputs": [],
   "source": [
    "value_set=set(values)"
   ]
  },
  {
   "cell_type": "code",
   "execution_count": 70,
   "id": "09aaca65",
   "metadata": {},
   "outputs": [
    {
     "name": "stdout",
     "output_type": "stream",
     "text": [
      "{1, 2, 3, 4, 5, 6}\n"
     ]
    }
   ],
   "source": [
    "print(value_set)"
   ]
  },
  {
   "cell_type": "code",
   "execution_count": 71,
   "id": "ef1a1182",
   "metadata": {},
   "outputs": [
    {
     "data": {
      "text/plain": [
       "6"
      ]
     },
     "execution_count": 71,
     "metadata": {},
     "output_type": "execute_result"
    }
   ],
   "source": [
    "len(value_set)"
   ]
  },
  {
   "cell_type": "markdown",
   "id": "801d5876",
   "metadata": {},
   "source": [
    "### Q9\n",
    "Write a Python script to print a dictionary where the keys are numbers between 1 and 15 (both included) and the values are the square of the keys."
   ]
  },
  {
   "cell_type": "code",
   "execution_count": 72,
   "id": "8ece2268",
   "metadata": {},
   "outputs": [
    {
     "name": "stdout",
     "output_type": "stream",
     "text": [
      "{1: 1, 2: 4, 3: 9, 4: 16, 5: 25, 6: 36, 7: 49, 8: 64, 9: 81, 10: 100, 11: 121, 12: 144, 13: 169, 14: 196, 15: 225}\n"
     ]
    }
   ],
   "source": [
    "# create an empty dictionary\n",
    "square_dict = {}\n",
    "\n",
    "# loop through the numbers between 1 and 15 (both included)\n",
    "for num in range(1, 16):\n",
    "    # add the key-value pair to the dictionary\n",
    "    square_dict[num] = num ** 2\n",
    "\n",
    "# print the dictionary\n",
    "print(square_dict)"
   ]
  },
  {
   "cell_type": "markdown",
   "id": "18954e57",
   "metadata": {},
   "source": [
    "### Q10\n",
    "Write a Python program to create a dictionary of keys x, y, and z where each key has as value a list from 11-20, 21-30, and 31-40 respectively. Access the fifth value of each key from the dictionary."
   ]
  },
  {
   "cell_type": "code",
   "execution_count": 73,
   "id": "fec19820",
   "metadata": {},
   "outputs": [
    {
     "name": "stdout",
     "output_type": "stream",
     "text": [
      "The fifth value of x is 15\n",
      "The fifth value of y is 25\n",
      "The fifth value of z is 35\n"
     ]
    }
   ],
   "source": [
    "# create the dictionary\n",
    "my_dict = {'x': list(range(11, 21)), 'y': list(range(21, 31)), 'z': list(range(31, 41))}\n",
    "\n",
    "# access the fifth value of each key\n",
    "x_fifth = my_dict['x'][4]\n",
    "y_fifth = my_dict['y'][4]\n",
    "z_fifth = my_dict['z'][4]\n",
    "\n",
    "# print the fifth value of each key\n",
    "print(f\"The fifth value of x is {x_fifth}\")\n",
    "print(f\"The fifth value of y is {y_fifth}\")\n",
    "print(f\"The fifth value of z is {z_fifth}\")\n"
   ]
  },
  {
   "cell_type": "code",
   "execution_count": null,
   "id": "2313184f",
   "metadata": {},
   "outputs": [],
   "source": []
  }
 ],
 "metadata": {
  "kernelspec": {
   "display_name": "Python 3 (ipykernel)",
   "language": "python",
   "name": "python3"
  },
  "language_info": {
   "codemirror_mode": {
    "name": "ipython",
    "version": 3
   },
   "file_extension": ".py",
   "mimetype": "text/x-python",
   "name": "python",
   "nbconvert_exporter": "python",
   "pygments_lexer": "ipython3",
   "version": "3.9.13"
  }
 },
 "nbformat": 4,
 "nbformat_minor": 5
}
