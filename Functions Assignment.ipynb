{
 "cells": [
  {
   "cell_type": "markdown",
   "id": "352dd2e3",
   "metadata": {},
   "source": [
    "### Q1\n",
    "\n",
    "Define a python function that calculate the perimeter of the rectangle\n",
    "\n",
    "Formular\n",
    "\n",
    "formular => 2 X length + 2 X Width"
   ]
  },
  {
   "cell_type": "code",
   "execution_count": 1,
   "id": "ce2d92ab",
   "metadata": {},
   "outputs": [
    {
     "data": {
      "text/plain": [
       "36"
      ]
     },
     "execution_count": 1,
     "metadata": {},
     "output_type": "execute_result"
    }
   ],
   "source": [
    "def perimeterRectangle(x, y):\n",
    "    result = 2*x + 2*y\n",
    "    return result\n",
    "\n",
    "perimeterRectangle(12, 6)"
   ]
  },
  {
   "cell_type": "markdown",
   "id": "a56ccec8",
   "metadata": {},
   "source": [
    "### Q2\n",
    "Define the function to calculate the area of a circle. Round the answer to 3 decimal places.\n",
    "\n",
    "**Preamble**\n",
    " - Take pi as 22/7\n",
    " - formular pi x r ** 2"
   ]
  },
  {
   "cell_type": "code",
   "execution_count": 2,
   "id": "54816f4e",
   "metadata": {},
   "outputs": [
    {
     "data": {
      "text/plain": [
       "154.0"
      ]
     },
     "execution_count": 2,
     "metadata": {},
     "output_type": "execute_result"
    }
   ],
   "source": [
    "def areaOfCircle(r):\n",
    "    pi = 22/7\n",
    "    result = pi * r**2\n",
    "    return result\n",
    "\n",
    "areaOfCircle(7)"
   ]
  },
  {
   "cell_type": "markdown",
   "id": "be5a6965",
   "metadata": {},
   "source": [
    "### Q3\n",
    "Define a function that takes a list of numbers and print out the **mean**, **median** and **mode**.\n",
    "\n",
    "- Test your function with the list b\n",
    "\n",
    "`b = [2,3,4,6,7,3,4,3,2,1,3]`"
   ]
  },
  {
   "cell_type": "code",
   "execution_count": 4,
   "id": "86b5da81",
   "metadata": {},
   "outputs": [
    {
     "name": "stdout",
     "output_type": "stream",
     "text": [
      "7\n"
     ]
    }
   ],
   "source": [
    "def meanMedianMode(x):\n",
    "        print(max(x))\n",
    "\n",
    "b = [2,3,4,6,7,3,4,3,2,1,3]\n",
    "meanMedianMode(b)"
   ]
  },
  {
   "cell_type": "markdown",
   "id": "3313ab10",
   "metadata": {},
   "source": [
    "### Q4\n",
    "Define a function that prints out the list of the first 20 prime numbers"
   ]
  },
  {
   "cell_type": "code",
   "execution_count": null,
   "id": "5b4c99f4",
   "metadata": {},
   "outputs": [],
   "source": [
    "def firstPrimeNumbers():\n",
    "    for i in range(1, 20):\n",
    "        if i%2 == 0:\n",
    "            continue\n",
    "        elif "
   ]
  },
  {
   "cell_type": "markdown",
   "id": "ef1c5863",
   "metadata": {},
   "source": [
    "#### Q5\n",
    "Define a function that takes a list of strings and print out the string and the length of the string.\n",
    "\n",
    "**Example of expected output**\n",
    "\n",
    "{\"Kofi\":4,\n",
    "\"Ama\":3,\n",
    "\"Sedem\":5}"
   ]
  },
  {
   "cell_type": "code",
   "execution_count": 11,
   "id": "1feabade",
   "metadata": {},
   "outputs": [
    {
     "name": "stdout",
     "output_type": "stream",
     "text": [
      "{'Kofi': 4, 'Ama': 3, 'Sedem': 5}\n"
     ]
    }
   ],
   "source": [
    " \n",
    "\n",
    "def stringCounter(name):\n",
    "   \n",
    "    nameDict ={}\n",
    "    for i in name:\n",
    "        nameDict[i] = len(i)\n",
    "    print(nameDict)\n",
    "\n",
    "name = [\"Kofi\", \"Ama\", \"Sedem\"]\n",
    "stringCounter(name)"
   ]
  },
  {
   "cell_type": "markdown",
   "id": "5072c8d8",
   "metadata": {},
   "source": [
    "### Q6\n",
    "Define a function that takes a list of strings and numbers and print out only the strings and the position of the strings.\n",
    "\n",
    "**Preamble**\n",
    "\n",
    "names = ['sedem', 'Kofi', 'kobla']\n",
    "\n",
    "**Expected Output**\n",
    "\n",
    "{'sedem': P0, 'Kofi': P1, 'kobla': P2}"
   ]
  },
  {
   "cell_type": "code",
   "execution_count": 17,
   "id": "96dc0bd5",
   "metadata": {},
   "outputs": [
    {
     "name": "stdout",
     "output_type": "stream",
     "text": [
      "{'sedem': 'P0', 'Kofi': 'P3', 'kobla': 'P4'}\n"
     ]
    }
   ],
   "source": [
    "def words(list):\n",
    "    d ={}\n",
    "\n",
    "    for i in list:\n",
    "        if type(i) == str:\n",
    "            d[i] = f\"P{list.index(i)}\"\n",
    "        else:\n",
    "            continue\n",
    "    print(d)\n",
    "\n",
    "names = ['sedem', 7,  8,'Kofi', 'kobla', 2, 4]\n",
    "ex = [\"\"]\n",
    "words(names)"
   ]
  },
  {
   "cell_type": "markdown",
   "id": "5593b665",
   "metadata": {},
   "source": [
    "### Q7\n",
    "Define a function that returns whether the sum of a person age and person's date of birth equals 2023\n",
    "\n",
    "**Preamble**\n",
    "\n",
    "2001 + 22 => True\n",
    "\n",
    "2002 + 5 => False"
   ]
  },
  {
   "cell_type": "code",
   "execution_count": 20,
   "id": "2e411b3a",
   "metadata": {},
   "outputs": [
    {
     "data": {
      "text/plain": [
       "'2001 + 22 => True'"
      ]
     },
     "execution_count": 20,
     "metadata": {},
     "output_type": "execute_result"
    }
   ],
   "source": [
    "def sum2023(a, y):\n",
    "    if a + y == 2023:\n",
    "        return f\"{y} + {a} => {True}\"\n",
    "    else: \n",
    "        return f\"{y} + {a} => {False}\"\n",
    "\n",
    "age = int(input(\"Enter your age\"))\n",
    "DOB = int(input(\"Enter your year of birth\"))\n",
    "sum2023(age, DOB)    "
   ]
  },
  {
   "cell_type": "markdown",
   "id": "f831e652",
   "metadata": {},
   "source": [
    "### Q8\n",
    "Define a function that determine whether a particular year is a **decade**, the output should be a boolean (True or False)\n"
   ]
  },
  {
   "cell_type": "code",
   "execution_count": 23,
   "id": "7a551416",
   "metadata": {},
   "outputs": [
    {
     "name": "stdout",
     "output_type": "stream",
     "text": [
      "True\n"
     ]
    }
   ],
   "source": [
    "def decade(y):\n",
    "    if y%10 == 0:\n",
    "        print(True)\n",
    "    else:\n",
    "        print(False)\n",
    "\n",
    "y = int(input(\"Enter a year: \"))\n",
    "decade(y)"
   ]
  },
  {
   "cell_type": "markdown",
   "id": "211c19e3",
   "metadata": {},
   "source": [
    "### Q9\n",
    "Define a function that contains a list of strings and punctuations,the output should on return the list of punctuations.\n"
   ]
  },
  {
   "cell_type": "code",
   "execution_count": null,
   "id": "fc53c65c",
   "metadata": {},
   "outputs": [],
   "source": []
  },
  {
   "cell_type": "markdown",
   "id": "34bae9ec",
   "metadata": {},
   "source": [
    "### Q10\n",
    "\n",
    "Define a lambda function that print out the cubic root of a list of numbers"
   ]
  },
  {
   "cell_type": "code",
   "execution_count": 31,
   "id": "39857e88",
   "metadata": {},
   "outputs": [
    {
     "name": "stdout",
     "output_type": "stream",
     "text": [
      "[1.0, 1.2599210498948732, 1.4422495703074083, 1.5874010519681994, 1.7099759466766968, 1.8171205928321397]\n"
     ]
    }
   ],
   "source": [
    "lst = [1, 2, 3, 4, 5, 6]\n",
    "cubicRoot = lambda a:print([num**(1/3) for num in a])\n",
    "cubicRoot(lst)"
   ]
  },
  {
   "cell_type": "markdown",
   "id": "37974632",
   "metadata": {},
   "source": [
    "### Q11\n",
    "Define a lambda function that print out the cube of a list of numbers"
   ]
  },
  {
   "cell_type": "code",
   "execution_count": 32,
   "id": "02c7cc4b",
   "metadata": {},
   "outputs": [
    {
     "name": "stdout",
     "output_type": "stream",
     "text": [
      "[1, 8, 27, 64, 125, 216]\n"
     ]
    }
   ],
   "source": [
    "lst = [1, 2, 3, 4, 5, 6]\n",
    "cubic = lambda n:print([num**3 for num in n])\n",
    "cubic(lst)"
   ]
  },
  {
   "cell_type": "markdown",
   "id": "b1522dbb",
   "metadata": {},
   "source": [
    "### Q12\n",
    "Define a function that take a list of list of numbers and return a list that contains the average of each sublist using map."
   ]
  },
  {
   "cell_type": "code",
   "execution_count": 33,
   "id": "c2b491c6",
   "metadata": {},
   "outputs": [],
   "source": [
    "def list_of_avg(lst):\n",
    "    return list(map(lambda sublist: sum(sublist) / len(sublist), lst))"
   ]
  },
  {
   "cell_type": "code",
   "execution_count": 35,
   "id": "f1c93844",
   "metadata": {},
   "outputs": [
    {
     "name": "stdout",
     "output_type": "stream",
     "text": [
      "[2.0, 5.0, 8.0]\n"
     ]
    }
   ],
   "source": [
    "lst = [[1, 2, 3], [4, 5, 6], [7, 8, 9]]\n",
    "result = list_of_avg(lst)\n",
    "print(result)"
   ]
  },
  {
   "cell_type": "markdown",
   "id": "0fd5cd06",
   "metadata": {},
   "source": [
    "### Q13\n",
    "Define a function that takes a list of strings and filter out strings that are upper case."
   ]
  },
  {
   "cell_type": "code",
   "execution_count": 40,
   "id": "ae7160c0",
   "metadata": {},
   "outputs": [
    {
     "name": "stdout",
     "output_type": "stream",
     "text": [
      "PRECIOUS\n",
      "DANIEL\n",
      "SELASI\n",
      "FRED\n"
     ]
    }
   ],
   "source": [
    "def upperCase(lst):\n",
    "    for i in lst:\n",
    "        if i.isupper() == True:\n",
    "            print(i)\n",
    "        else:\n",
    "            continue\n",
    "\n",
    "names =[\"kofi\",\"PRECIOUS\",\"DANIEL\",'kwesi',\"SELASI\",'FRED','kwaku']\n",
    "upperCase(names)"
   ]
  },
  {
   "cell_type": "markdown",
   "id": "d0dddd17",
   "metadata": {},
   "source": [
    "### Q14\n",
    "Define a function that takes a list of numbers and print out the numbers which are prime in the list."
   ]
  },
  {
   "cell_type": "code",
   "execution_count": 67,
   "id": "1d380c39",
   "metadata": {},
   "outputs": [
    {
     "name": "stdout",
     "output_type": "stream",
     "text": [
      "[1, 3, 5, 7, 11, 13, 17, 19]\n"
     ]
    }
   ],
   "source": [
    "lst = []\n",
    "for i in range(1, 20):\n",
    "    lst.append(i)\n",
    "# print(lst)\n",
    "primeNum = []\n",
    "\n",
    "def isPrime(lst):\n",
    "    for i in lst:\n",
    "        if i%2 == 0:\n",
    "            continue\n",
    "        elif i > 8 and (i%3 == 0 or i%5 == 0):\n",
    "            continue\n",
    "        else:\n",
    "            primeNum.append(i)\n",
    "    print(primeNum)\n",
    "isPrime(lst)  \n"
   ]
  },
  {
   "cell_type": "markdown",
   "id": "240741dc",
   "metadata": {},
   "source": [
    "### Q15\n",
    "Define a function that take a list of strings and return a zip of each string and length of a string."
   ]
  },
  {
   "cell_type": "code",
   "execution_count": null,
   "id": "0d2dda00",
   "metadata": {},
   "outputs": [],
   "source": []
  },
  {
   "cell_type": "markdown",
   "id": "44a1339f",
   "metadata": {},
   "source": [
    "### Q16\n",
    "Define a function that takes in a number and return the first 12 multiples of the the number.\n",
    "\n",
    "Expected Output\n",
    "\n",
    "2 X 1 = 2\n",
    "\n",
    "to\n",
    "\n",
    "2 X 12 = 24"
   ]
  },
  {
   "cell_type": "code",
   "execution_count": 69,
   "id": "098e3fa5",
   "metadata": {},
   "outputs": [
    {
     "name": "stdout",
     "output_type": "stream",
     "text": [
      "2 x 1 = 2\n",
      "2 x 2 = 4\n",
      "2 x 3 = 6\n",
      "2 x 4 = 8\n",
      "2 x 5 = 10\n",
      "2 x 6 = 12\n",
      "2 x 7 = 14\n",
      "2 x 8 = 16\n",
      "2 x 9 = 18\n",
      "2 x 10 = 20\n",
      "2 x 11 = 22\n",
      "2 x 12 = 24\n"
     ]
    }
   ],
   "source": [
    "def multiples():\n",
    "    num = int(input(\"Input a number: \"))\n",
    "    for i in range(1, 13):\n",
    "        print(f\"{num} x {i} = {num*i}\")\n",
    "\n",
    "multiples()"
   ]
  },
  {
   "cell_type": "markdown",
   "id": "cd63dd99",
   "metadata": {},
   "source": [
    "### Q17\n",
    "Write a Python function to find the maximum of three numbers.\n",
    "\n",
    "**Do not use the max function**"
   ]
  },
  {
   "cell_type": "code",
   "execution_count": 75,
   "id": "0f2c12e1",
   "metadata": {},
   "outputs": [],
   "source": [
    "def maxNum():\n",
    "    nums = []\n",
    "    # user = int(input(\"Enter a number: \"))\n",
    "    while len(nums) <= 3:\n",
    "        user = int(input(\"Enter a number: \"))\n",
    "        nums.append(user)\n",
    "        continue\n",
    "    for i in nums:\n",
    "        n = i\n",
    "        if n > i:\n",
    "            print(i)\n",
    "maxNum()\n",
    "        "
   ]
  },
  {
   "cell_type": "code",
   "execution_count": 85,
   "id": "e83fca36",
   "metadata": {},
   "outputs": [
    {
     "name": "stdout",
     "output_type": "stream",
     "text": [
      "[1, 2, 3]\n"
     ]
    },
    {
     "ename": "TypeError",
     "evalue": "'<' not supported between instances of 'int' and 'NoneType'",
     "output_type": "error",
     "traceback": [
      "\u001b[1;31m---------------------------------------------------------------------------\u001b[0m",
      "\u001b[1;31mTypeError\u001b[0m                                 Traceback (most recent call last)",
      "Cell \u001b[1;32mIn[85], line 17\u001b[0m\n\u001b[0;32m     15\u001b[0m             \u001b[39mprint\u001b[39m(i)\n\u001b[0;32m     16\u001b[0m     \u001b[39mprint\u001b[39m(n)\n\u001b[1;32m---> 17\u001b[0m maxNum()\n",
      "Cell \u001b[1;32mIn[85], line 11\u001b[0m, in \u001b[0;36mmaxNum\u001b[1;34m()\u001b[0m\n\u001b[0;32m      9\u001b[0m \u001b[39mfor\u001b[39;00m i \u001b[39min\u001b[39;00m nums:\n\u001b[0;32m     10\u001b[0m     n \u001b[39m=\u001b[39m \u001b[39mNone\u001b[39;00m\n\u001b[1;32m---> 11\u001b[0m     \u001b[39mif\u001b[39;00m i \u001b[39m<\u001b[39;49m n:\n\u001b[0;32m     12\u001b[0m        i \u001b[39m=\u001b[39m n\n\u001b[0;32m     13\u001b[0m        \u001b[39mcontinue\u001b[39;00m\n",
      "\u001b[1;31mTypeError\u001b[0m: '<' not supported between instances of 'int' and 'NoneType'"
     ]
    }
   ],
   "source": [
    "def maxNum():\n",
    "    nums = []\n",
    "    # user = int(input(\"Enter a number: \"))\n",
    "    while len(nums) < 3:\n",
    "        user = int(input(\"Enter a number: \"))\n",
    "        nums.append(user)\n",
    "        continue\n",
    "    print(nums)\n",
    "    for i in nums:\n",
    "        n = None\n",
    "        if i < n:\n",
    "           i = n\n",
    "           continue\n",
    "        else:\n",
    "            print(i)\n",
    "    print(n)\n",
    "maxNum()\n"
   ]
  },
  {
   "cell_type": "markdown",
   "id": "67520c0b",
   "metadata": {},
   "source": [
    "### Q18\n",
    "Write a Python function to multiply all the numbers in a list."
   ]
  },
  {
   "cell_type": "markdown",
   "id": "05891582",
   "metadata": {},
   "source": [
    "### Q19\n",
    "Write a Python program to reverse a string"
   ]
  },
  {
   "cell_type": "markdown",
   "id": "b9025ac8",
   "metadata": {},
   "source": [
    "### Q20\n",
    "Write a python function to return the length of a string."
   ]
  },
  {
   "cell_type": "markdown",
   "id": "8d1ee176",
   "metadata": {},
   "source": [
    "Have a lovely coding weekend"
   ]
  }
 ],
 "metadata": {
  "kernelspec": {
   "display_name": "Python 3 (ipykernel)",
   "language": "python",
   "name": "python3"
  },
  "language_info": {
   "codemirror_mode": {
    "name": "ipython",
    "version": 3
   },
   "file_extension": ".py",
   "mimetype": "text/x-python",
   "name": "python",
   "nbconvert_exporter": "python",
   "pygments_lexer": "ipython3",
   "version": "3.9.13"
  }
 },
 "nbformat": 4,
 "nbformat_minor": 5
}
