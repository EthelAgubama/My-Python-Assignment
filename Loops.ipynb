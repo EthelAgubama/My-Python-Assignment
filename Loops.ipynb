{
 "cells": [
  {
   "cell_type": "markdown",
   "id": "c981861e",
   "metadata": {},
   "source": [
    "# Q1\n",
    "Write a code to display a list of the first 12 multiples of 8 using a for loop\n"
   ]
  },
  {
   "cell_type": "code",
   "execution_count": null,
   "id": "7133112c",
   "metadata": {},
   "outputs": [],
   "source": [
    "multEight = []\n",
    "for i in range(1, 100):\n",
    "    if i%8 == 0:\n",
    "        multEight.append(i)\n",
    "    else:\n",
    "        continue\n",
    "    if len(multEight) == 12:\n",
    "        break\n",
    "\n",
    "print(multEight)"
   ]
  },
  {
   "cell_type": "markdown",
   "id": "d9f7d0f9",
   "metadata": {},
   "source": [
    "# Q2\n",
    "Write the code to print sum of all even numbers from 1 to 201"
   ]
  },
  {
   "cell_type": "code",
   "execution_count": null,
   "id": "6dbc9313",
   "metadata": {},
   "outputs": [],
   "source": [
    "total = 0\n",
    "for i in range(1, 201):\n",
    "    if i%2 == 0:\n",
    "        total+=i\n",
    "    else:\n",
    "        continue\n",
    "\n",
    "print(total)"
   ]
  },
  {
   "cell_type": "markdown",
   "id": "4f0f12d7",
   "metadata": {},
   "source": [
    "# Q3\n",
    "`my_list = [3, 5, 7, 12, 41]`\n",
    "\n",
    "Write the code to display the list of the squares of each number in my list\n",
    "\n",
    "- Without using list comprehension\n",
    "- Using list comprehension\n"
   ]
  },
  {
   "cell_type": "code",
   "execution_count": null,
   "id": "3e6d3ccf",
   "metadata": {},
   "outputs": [],
   "source": [
    "#Without list comprehension\n",
    "my_list = [3, 5, 7, 12, 41]\n",
    "squares = []\n",
    "for i in my_list:\n",
    "    squares.append(i**2)\n",
    "\n",
    "print(squares)"
   ]
  },
  {
   "cell_type": "code",
   "execution_count": null,
   "id": "c5a5321d",
   "metadata": {},
   "outputs": [],
   "source": [
    "#with list comprehension\n",
    "my_list = [3, 5, 7, 12, 41]\n",
    "squares = [i**2 for i in my_list]\n",
    "print(squares)"
   ]
  },
  {
   "cell_type": "markdown",
   "id": "28bed149",
   "metadata": {},
   "source": [
    "# Q4\n",
    "`my_list1 = [3, 53,47, 22, 53, 78, 12, 41]`\n",
    "\n",
    "Calculate the average of my_list1\n",
    "\n",
    "- Without using sum and len fucnctions\n",
    "- Using sum and len functions\n"
   ]
  },
  {
   "cell_type": "code",
   "execution_count": null,
   "id": "1e733c25",
   "metadata": {},
   "outputs": [],
   "source": [
    "my_list1 = [3, 53,47, 22, 53, 78, 12, 41]\n",
    "total = 0\n",
    "count = 0\n",
    "for i in my_list1:\n",
    "    count+=1\n",
    "#     print(f\"round: {count}\")\n",
    "    total+=i\n",
    "#     print(f\"total: {total}\")\n",
    "print(count)\n",
    "print(total)\n",
    "print(f\"Average is {total/count}\")"
   ]
  },
  {
   "cell_type": "code",
   "execution_count": null,
   "id": "543301f8",
   "metadata": {},
   "outputs": [],
   "source": [
    "my_list1 = [3, 53,47, 22, 53, 78, 12, 41]\n",
    "average = sum(my_list1)/len(my_list1)\n",
    "print(average)"
   ]
  },
  {
   "cell_type": "markdown",
   "id": "38c1ddff",
   "metadata": {},
   "source": [
    "# Q4\n",
    "\n",
    "Write a Python program to guess a number between 1 and 9.\n",
    "User is prompted to enter a guess. If the user guesses wrong then the prompt appears again until the guess is correct, on successful guess, user will get a \"Well guessed!\" message, and the program will exit."
   ]
  },
  {
   "cell_type": "code",
   "execution_count": 15,
   "id": "4b7cc1b6",
   "metadata": {},
   "outputs": [
    {
     "name": "stdout",
     "output_type": "stream",
     "text": [
      "1\n",
      "2\n",
      "3\n",
      "4\n",
      "5\n",
      "6\n",
      "7\n",
      "8\n",
      "Well guessed!\n"
     ]
    }
   ],
   "source": [
    "user = 0\n",
    "from random import randint\n",
    "compGuess = randint(1,9)\n",
    "while user != compGuess:\n",
    "    user = int(input(\"Try to guess the computer's secret number: \"))\n",
    "    print(user)\n",
    "    if user == compGuess:\n",
    "        print(\"Well guessed!\")\n",
    "        break\n",
    "    \n",
    "    "
   ]
  },
  {
   "cell_type": "code",
   "execution_count": null,
   "id": "fdfd9131",
   "metadata": {},
   "outputs": [],
   "source": [
    "\n"
   ]
  },
  {
   "cell_type": "markdown",
   "id": "f5c02baa",
   "metadata": {},
   "source": [
    "# Q5\n",
    "Write a Python program to construct the following pattern.\n",
    "\n",
    "`*` \n",
    "\n",
    "`* *` \n",
    "\n",
    "`* * *` \n",
    "\n",
    "`* * * *` \n",
    "\n",
    "`* * * * *`"
   ]
  },
  {
   "cell_type": "code",
   "execution_count": null,
   "id": "bb6c70a6",
   "metadata": {},
   "outputs": [],
   "source": [
    "for i in range(6):\n",
    "    for j in range(i):\n",
    "        print(\"*\", end=\"\")\n",
    "    print(\" \")"
   ]
  },
  {
   "cell_type": "code",
   "execution_count": null,
   "id": "a326cb47",
   "metadata": {},
   "outputs": [],
   "source": [
    "for i in range(1, 6):\n",
    "    print(\"*\" * i)\n"
   ]
  },
  {
   "cell_type": "markdown",
   "id": "e85d94df",
   "metadata": {},
   "source": [
    "# Q6\n",
    "\n",
    "Write a Python program that accepts a word from the user and reverses it."
   ]
  },
  {
   "cell_type": "code",
   "execution_count": null,
   "id": "9c69d1e9",
   "metadata": {},
   "outputs": [],
   "source": [
    "words = input(\"Enter a word: \")\n",
    "print(words[::-1])"
   ]
  },
  {
   "cell_type": "markdown",
   "id": "5fe06511",
   "metadata": {},
   "source": [
    "# Q7\n",
    "Write a Python program that accepts a word from the user and reverses it."
   ]
  },
  {
   "cell_type": "code",
   "execution_count": null,
   "id": "d751f4da",
   "metadata": {},
   "outputs": [],
   "source": [
    "words = input(\"Enter a word: \")\n",
    "print(words[::-1])"
   ]
  },
  {
   "cell_type": "markdown",
   "id": "5a99d4b3",
   "metadata": {},
   "source": [
    "# Q8\n",
    "\n",
    "`lst = [3,4,5,4,7,8,5,8,3,6,8,9,11]`\n",
    "\n",
    "Write a Python program to count the number of even and odd numbers in the above list of numbers.\n",
    "\n",
    "**Expected output should be in this format**\n",
    "\n",
    "{\"Even\" : num_of_even, \"Odd\": num_of_odd}"
   ]
  },
  {
   "cell_type": "code",
   "execution_count": null,
   "id": "8a0e8d9f",
   "metadata": {},
   "outputs": [],
   "source": [
    "lst = [3,4,5,4,7,8,5,8,3,6,8,9,11]\n",
    "num =dict()\n",
    "for i in lst:\n",
    "    if i%2 == 0:\n",
    "        num[\"Even\"] = num.get(\"Even\", 0) + 1\n",
    "    else:\n",
    "         num[\"Odd\"] = num.get(\"Odd\", 0) + 1\n",
    "print(num)"
   ]
  },
  {
   "cell_type": "markdown",
   "id": "c92b54f9",
   "metadata": {},
   "source": [
    "# Q9\n",
    " Write a Python program that iterates the integers from 1 to 50. For multiples of three print \"Fizz\" instead of the number and for multiples of five print \"Buzz\". For numbers that are multiples of three and five, print \"FizzBuzz\".\n",
    "Sample Output :\n",
    "1\n",
    "\n",
    "2\n",
    "\n",
    "fizz\n",
    "\n",
    "4\n",
    "\n",
    "buzz"
   ]
  },
  {
   "cell_type": "code",
   "execution_count": null,
   "id": "5957eb55",
   "metadata": {},
   "outputs": [],
   "source": [
    "for i in range(1, 50):\n",
    "    if i%3 == 0 and i%5 == 0:\n",
    "        print(\"FizzBuzz\")\n",
    "    elif i%5 == 0:\n",
    "        print(\"Buzz\")\n",
    "    elif i%3 == 0:\n",
    "        print(\"Fizz\")\n",
    "    else:\n",
    "        print(i)"
   ]
  },
  {
   "cell_type": "markdown",
   "id": "8d3505cf",
   "metadata": {},
   "source": [
    "# Q10\n",
    " Write a Python program to find the median of three values inputs from the user"
   ]
  },
  {
   "cell_type": "code",
   "execution_count": null,
   "id": "490ca7f1",
   "metadata": {},
   "outputs": [],
   "source": [
    "lst = []\n",
    "while len(lst) < 3:\n",
    "    number = int(input(\"Enter a number: \"))\n",
    "    lst.append(number)\n",
    "    if len(lst) == 3:\n",
    "        lst.sort()\n",
    "\n",
    "print(lst)        \n",
    "print(lst[1])\n",
    "\n",
    "\n"
   ]
  },
  {
   "cell_type": "markdown",
   "id": "9ef4f8a2",
   "metadata": {},
   "source": [
    "# Q11\n",
    "Write a Python program to calculate the sum and average of n integer numbers (input from the user). Input 0 to finish."
   ]
  },
  {
   "cell_type": "code",
   "execution_count": null,
   "id": "2b52248d",
   "metadata": {},
   "outputs": [],
   "source": [
    "# lst = []\n",
    "# number = input(\"Enter a number(0 to finish): \")\n",
    "# lst.append(number)\n",
    "# while len(lst) < 5:\n",
    "#     number = input(\"Enter a number(0 to finish): \")\n",
    "#     lst.append(number)\n",
    "# lengthLst = len(lst)\n",
    "# print(f\"the sum of numbers is {sum(lst)} and the average is {sum(lst)/lengthLst}\")"
   ]
  },
  {
   "cell_type": "code",
   "execution_count": 5,
   "id": "d61f6cdf",
   "metadata": {},
   "outputs": [
    {
     "name": "stdout",
     "output_type": "stream",
     "text": [
      "Enter a number(0 to finish): 2\n",
      "Enter a number(0 to finish): 3\n",
      "Enter a number(0 to finish): 6\n",
      "Enter a number(0 to finish): 7\n",
      "Enter a number(0 to finish): 9\n",
      "Enter a number(0 to finish): 4\n",
      "Enter a number(0 to finish): 0\n",
      "The sum of numbers is 29 and the average is 4.833333333333333\n"
     ]
    }
   ],
   "source": [
    "lst = []\n",
    "number = int(input(\"Enter a number(0 to finish): \"))\n",
    "while number != 0:\n",
    "    number = int(input(\"Enter a number(0 to finish): \"))\n",
    "    lst.append(number)\n",
    "    continue\n",
    "print(f\"The sum of numbers is {sum(lst)} and the average is {sum(lst)/len(lst)}\")  "
   ]
  },
  {
   "cell_type": "markdown",
   "id": "45f5c335",
   "metadata": {},
   "source": [
    "# Q12\n",
    " Write a Python program to create the multiplication table (from 1 to 12) of a number input from a user.\n",
    " \n",
    " Expected Output:\n",
    "\n",
    "Input a number: 6                                                       \n",
    "6 x 1 = 6                                                               \n",
    "6 x 2 = 12                                                              \n",
    "6 x 3 = 18                                                              \n",
    "6 x 4 = 24                                                              \n",
    "6 x 5 = 30                                                              \n",
    "6 x 6 = 36                                                              \n",
    "6 x 7 = 42                                                              \n",
    "6 x 8 = 48                                                              \n",
    "6 x 9 = 54                                                              \n",
    "6 x 10 = 60 \n",
    "\n",
    "6 x 11 = 66\n",
    "\n",
    "6 x 12 = 72"
   ]
  },
  {
   "cell_type": "code",
   "execution_count": 2,
   "id": "3fe731da",
   "metadata": {},
   "outputs": [
    {
     "name": "stdout",
     "output_type": "stream",
     "text": [
      "6 x 1 = 6\n",
      "6 x 2 = 12\n",
      "6 x 3 = 18\n",
      "6 x 4 = 24\n",
      "6 x 5 = 30\n",
      "6 x 6 = 36\n",
      "6 x 7 = 42\n",
      "6 x 8 = 48\n",
      "6 x 9 = 54\n",
      "6 x 10 = 60\n",
      "6 x 11 = 66\n",
      "6 x 12 = 72\n"
     ]
    }
   ],
   "source": [
    "num = int(input(\"Input a number: \"))\n",
    "for i in range(1, 13):\n",
    "    print(f\"{num} x {i} = {num*i}\")\n"
   ]
  },
  {
   "cell_type": "markdown",
   "id": "8cc97048",
   "metadata": {},
   "source": [
    "# Q13\n",
    "Write a Python program to construct the following pattern\n",
    "\n",
    "1\n",
    "\n",
    "22\n",
    "\n",
    "333\n",
    "\n",
    "4444\n",
    "\n",
    "55555\n",
    "\n",
    "666666\n",
    "\n",
    "7777777\n",
    "\n",
    "88888888\n",
    "\n",
    "999999999"
   ]
  },
  {
   "cell_type": "code",
   "execution_count": 7,
   "id": "7d2ba185",
   "metadata": {},
   "outputs": [
    {
     "name": "stdout",
     "output_type": "stream",
     "text": [
      "1\n",
      "22\n",
      "333\n",
      "4444\n",
      "55555\n",
      "666666\n",
      "7777777\n",
      "88888888\n",
      "999999999\n"
     ]
    }
   ],
   "source": [
    "for i in range(1, 10):\n",
    "    print(f\"{i}\"*i)"
   ]
  },
  {
   "cell_type": "markdown",
   "id": "adef967a",
   "metadata": {},
   "source": [
    "# Q14\n",
    "Print sum of all odd numbers from 10 to 50"
   ]
  },
  {
   "cell_type": "code",
   "execution_count": 9,
   "id": "591a4646",
   "metadata": {},
   "outputs": [
    {
     "name": "stdout",
     "output_type": "stream",
     "text": [
      "[11, 13, 15, 17, 19, 21, 23, 25, 27, 29, 31, 33, 35, 37, 39, 41, 43, 45, 47, 49]\n",
      "600\n"
     ]
    }
   ],
   "source": [
    "odd = []\n",
    "for i in range(10, 50):\n",
    "    if i%2 != 0:\n",
    "        odd.append(i)\n",
    "\n",
    "print(odd)\n",
    "print(sum(odd))"
   ]
  },
  {
   "cell_type": "markdown",
   "id": "1642ec1a",
   "metadata": {},
   "source": [
    "# Q15\n",
    "\n",
    "`my_list = [25, 100, 121, 400, 81]`\n",
    "\n",
    "Write the code to display the list of the square root of each number in my list\n",
    "\n",
    "- Without using list comprehension\n",
    "- Using list comprehension"
   ]
  },
  {
   "cell_type": "code",
   "execution_count": 10,
   "id": "8d2c3e69",
   "metadata": {},
   "outputs": [
    {
     "name": "stdout",
     "output_type": "stream",
     "text": [
      "[625, 10000, 14641, 160000, 6561]\n"
     ]
    }
   ],
   "source": [
    "my_list = [25, 100, 121, 400, 81]\n",
    "my_list_sq = []\n",
    "for i in my_list:\n",
    "   my_list_sq.append(i**2)\n",
    "\n",
    "print(my_list_sq)\n"
   ]
  }
 ],
 "metadata": {
  "kernelspec": {
   "display_name": "Python 3 (ipykernel)",
   "language": "python",
   "name": "python3"
  },
  "language_info": {
   "codemirror_mode": {
    "name": "ipython",
    "version": 3
   },
   "file_extension": ".py",
   "mimetype": "text/x-python",
   "name": "python",
   "nbconvert_exporter": "python",
   "pygments_lexer": "ipython3",
   "version": "3.9.13"
  }
 },
 "nbformat": 4,
 "nbformat_minor": 5
}
